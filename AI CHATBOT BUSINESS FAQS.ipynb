{
 "cells": [
  {
   "cell_type": "markdown",
   "metadata": {},
   "source": [
    "# **-----------------------**>**AI CHATBOT BUSINESS FAQS**<**-----------------------**"
   ]
  },
  {
   "cell_type": "code",
   "execution_count": 1,
   "metadata": {},
   "outputs": [
    {
     "name": "stdout",
     "output_type": "stream",
     "text": [
      "Requirement already satisfied: python-dotenv in c:\\users\\enghk\\appdata\\local\\programs\\python\\python311\\lib\\site-packages (1.0.1)\n",
      "Note: you may need to restart the kernel to use updated packages.\n"
     ]
    }
   ],
   "source": [
    "# Terminal\n",
    "# pip install python-dotenv"
   ]
  },
  {
   "cell_type": "code",
   "execution_count": 2,
   "metadata": {},
   "outputs": [],
   "source": [
    "import openai\n",
    "import os\n",
    "from dotenv import load_dotenv\n",
    "import nltk\n",
    "\n",
    "# Load environment variables from .env file\n",
    "load_dotenv()\n",
    "\n",
    "# Set your OpenAI API key from the environment variable\n",
    "openai.api_key = os.getenv('OPENAI_API_KEY')"
   ]
  },
  {
   "cell_type": "code",
   "execution_count": 3,
   "metadata": {},
   "outputs": [],
   "source": [
    "import os\n",
    "import openai\n",
    "\n",
    "# Check for the OpenAI API key\n",
    "if not os.getenv(\"OPENAI_API_KEY\"):\n",
    "    raise ValueError(\"API key is missing. Please set the OPENAI_API_KEY environment variable.\")\n",
    "openai.api_key = os.getenv(\"OPENAI_API_KEY\")\n"
   ]
  },
  {
   "cell_type": "markdown",
   "metadata": {},
   "source": [
    "# Step 1: Import Necessary Libraries"
   ]
  },
  {
   "cell_type": "code",
   "execution_count": 4,
   "metadata": {},
   "outputs": [],
   "source": [
    "import tkinter as tk\n",
    "from tkinter import scrolledtext\n",
    "import openai\n",
    "import nltk\n",
    "import random"
   ]
  },
  {
   "cell_type": "markdown",
   "metadata": {},
   "source": [
    "# Step 2: Set OpenAI API Key and Download NLTK Resources"
   ]
  },
  {
   "cell_type": "code",
   "execution_count": 5,
   "metadata": {},
   "outputs": [],
   "source": [
    "# Set your OpenAI API key from the environment variable\n",
    "openai.api_key = os.getenv('OPENAI_API_KEY')\n",
    "\n",
    "# Ensure you have the required NLTK resources\n",
    "try:\n",
    "    nltk.data.find('tokenizers/punkt')\n",
    "except LookupError:\n",
    "    nltk.download('punkt')\n"
   ]
  },
  {
   "cell_type": "markdown",
   "metadata": {},
   "source": [
    "# Step 3: Define FAQs Dictionary"
   ]
  },
  {
   "cell_type": "code",
   "execution_count": 6,
   "metadata": {},
   "outputs": [],
   "source": [
    "# Sample FAQs\n",
    "faqs = {\n",
    "    \"What is your company's return policy?\": \"Our company allows returns within 30 days of purchase with a valid receipt.\",\n",
    "    \"How do I track my order from your business?\": \"You can track your order using the tracking link provided in your order confirmation email.\",\n",
    "    \"What payment methods does your business accept?\": \"We accept credit cards, PayPal, and bank transfers.\",\n",
    "    \"Do you offer customer support for your products?\": \"Yes, we offer customer support via email and chat from 9 AM to 5 PM.\",\n",
    "    \"Where can I find your office locations?\": \"You can find our office locations on the 'Find a Store' page on our website.\",\n",
    "    \"What are your shipping options for orders?\": \"We offer standard and express shipping options. Shipping fees vary based on the method and location.\",\n",
    "    \"Do you offer international shipping for your products?\": \"Yes, we ship to select international locations. Please check our shipping policy for more details.\",\n",
    "    \"How can I change my order after it's been placed?\": \"To change your order, please contact our customer support team as soon as possible.\",\n",
    "    \"Can I cancel my order with your business?\": \"Yes, you can cancel your order within 1 hour of placing it. Please contact customer support for assistance.\",\n",
    "    \"What should I do if I receive a damaged product?\": \"If you receive a damaged product, please contact our customer support team within 7 days for a replacement.\",\n",
    "    \"Do you have a loyalty program for returning customers?\": \"Yes, we have a loyalty program that rewards customers with points for every purchase.\",\n",
    "    \"How do I redeem my loyalty points with your company?\": \"You can redeem your loyalty points at checkout on our website.\",\n",
    "    \"What is the warranty on your business products?\": \"Our products come with a one-year warranty covering manufacturing defects.\",\n",
    "    \"How do I provide feedback about my experience?\": \"We appreciate your feedback! You can provide feedback through our website or by contacting customer support.\",\n",
    "    \"What if I forgot my password to access my account?\": \"If you forgot your password, you can reset it by clicking the 'Forgot Password' link on the login page.\",\n",
    "    \"How can I subscribe to your business newsletter?\": \"You can subscribe to our newsletter by entering your email address in the subscription box on our website.\",\n",
    "    \"What is your privacy policy regarding customer data?\": \"We are committed to protecting your privacy. You can view our privacy policy on our website.\",\n",
    "    \"How do I update my account information with your company?\": \"You can update your account information by logging into your account and navigating to the 'Account Settings' section.\",\n",
    "    \"Are your products environmentally friendly?\": \"Yes, we strive to use sustainable materials and eco-friendly packaging wherever possible.\",\n",
    "    \"Do you offer gift cards for your products?\": \"Yes, we offer gift cards that can be purchased on our website.\",\n",
    "    \"How do I contact your customer service team?\": \"You can contact customer service via email or through the chat option on our website.\",\n",
    "    \"What are your business's operating hours?\": \"Our business hours are from 10 AM to 8 PM, Monday through Saturday.\",\n",
    "    \"Do you have a mobile app for customer convenience?\": \"Yes, we have a mobile app available for both iOS and Android devices.\",\n",
    "    \"Can I return items purchased online in-store?\": \"Yes, you can return online purchases at any of our store locations.\",\n",
    "    \"Do you offer price matching for competitors?\": \"Yes, we offer price matching within 14 days of your purchase.\",\n",
    "    \"How can I apply for a job within your company?\": \"You can apply for a job by visiting the 'Careers' page on our website.\",\n",
    "    \"What is your policy on allergens in your products?\": \"Please refer to the product packaging for allergen information.\",\n",
    "    \"How do I check the status of my refund?\": \"You can check the status of your refund by contacting our customer support team.\",\n",
    "    \"Do you have any seasonal promotions or discounts?\": \"Yes, we offer seasonal promotions that you can find on our website.\",\n",
    "    \"Can I use multiple discount codes on a single order?\": \"No, only one discount code can be applied per order.\",\n",
    "    \"How can I unsubscribe from your newsletter?\": \"You can unsubscribe from the newsletter by clicking the link in any email we send you.\",\n",
    "    \"What should I do if I receive the wrong item in my order?\": \"If you receive the wrong item, please contact customer support for assistance.\"\n",
    "}"
   ]
  },
  {
   "cell_type": "markdown",
   "metadata": {},
   "source": [
    "# Step 4: Create Response Generation Function"
   ]
  },
  {
   "cell_type": "code",
   "execution_count": 7,
   "metadata": {},
   "outputs": [],
   "source": [
    "# Define the Response Function\n",
    "def get_response(user_input):\n",
    "    # Simple FAQ matching\n",
    "    for question, answer in faqs.items():\n",
    "        if question.lower() in user_input.lower():\n",
    "            return answer\n",
    "\n",
    "    # If not found in FAQs, use OpenAI API to generate a response\n",
    "    response = openai.ChatCompletion.create(\n",
    "        model=\"gpt-3.5-turbo\",\n",
    "        messages=[\n",
    "            {\"role\": \"user\", \"content\": user_input}\n",
    "        ]\n",
    "    )\n",
    "    return response['choices'][0]['message']['content']"
   ]
  },
  {
   "cell_type": "markdown",
   "metadata": {},
   "source": [
    "# Step 5: Define Function to Suggest Random Questions"
   ]
  },
  {
   "cell_type": "code",
   "execution_count": 8,
   "metadata": {},
   "outputs": [],
   "source": [
    "# Function to suggest random questions\n",
    "def suggest_random_questions(faqs, num_questions=15):\n",
    "    questions = list(faqs.keys())\n",
    "    random_questions = random.sample(questions, min(num_questions, len(questions)))\n",
    "    return random_questions"
   ]
  },
  {
   "cell_type": "markdown",
   "metadata": {},
   "source": [
    "# Step 6: Build Chatbot GUI Interface"
   ]
  },
  {
   "cell_type": "code",
   "execution_count": 9,
   "metadata": {},
   "outputs": [],
   "source": [
    "# GUI for the Chatbot\n",
    "class ChatbotGUI:\n",
    "    def __init__(self, root):\n",
    "        self.root = root\n",
    "        self.root.title(\"FAQ Chatbot\")\n",
    "        \n",
    "        # Create a frame for the chat area\n",
    "        self.chat_frame = tk.Frame(self.root)\n",
    "        self.chat_frame.pack(pady=10)\n",
    "\n",
    "        # Create a scrolled text area for chat with larger dimensions\n",
    "        self.chat_area = scrolledtext.ScrolledText(self.chat_frame, wrap=tk.WORD, width=110, height=40, font=(\"Arial\", 14), state='disabled')\n",
    "        self.chat_area.pack()\n",
    "\n",
    "        # Create an entry box for user input with larger font\n",
    "        self.user_input = tk.Entry(self.root, width=78, font=(\"Arial\", 14))\n",
    "        self.user_input.pack(pady=10)\n",
    "        self.user_input.bind(\"<Return>\", self.send_message)\n",
    "\n",
    "        # Display random questions\n",
    "        self.display_random_questions()\n",
    "\n",
    "        # Welcome message\n",
    "        self.display_message(\"Welcome to the FAQ Chatbot! Type your question below.\")\n",
    "    def display_message(self, message):\n",
    "        self.chat_area.configure(state='normal')\n",
    "        self.chat_area.insert(tk.END, f\" {message}\\n\")\n",
    "        self.chat_area.configure(state='disabled')\n",
    "        self.chat_area.see(tk.END)\n",
    "\n",
    "    def send_message(self, event):\n",
    "        user_message = self.user_input.get()\n",
    "        if user_message.lower() == 'exit':\n",
    "            self.root.quit()\n",
    "\n",
    "        self.display_message(f\"You: {user_message}\")\n",
    "        self.user_input.delete(0, tk.END)\n",
    "\n",
    "        response = get_response(user_message)\n",
    "        self.display_message(f\"ChatBot: {response}\")  # Display the chatbot's response\n",
    "        \n",
    "        # Add the separator after the response\n",
    "        self.display_message(\"----------------------------------------------------------------------------------------\")  # Separator line\n",
    "    def display_random_questions(self):\n",
    "        random_questions = suggest_random_questions(faqs)\n",
    "        self.display_message(\"\\nHere are some frequently asked questions you might find helpful:\")\n",
    "        for question in random_questions:\n",
    "            self.display_message(f\" - {question}\")\n",
    "        # Print line of dashes\n",
    "        self.display_message(\"-\" * 80)  # 80 dashes for separation"
   ]
  },
  {
   "cell_type": "markdown",
   "metadata": {},
   "source": [
    "# Step 7: Main Program Execution"
   ]
  },
  {
   "cell_type": "code",
   "execution_count": 10,
   "metadata": {},
   "outputs": [],
   "source": [
    "# Main Execution\n",
    "if __name__ == \"__main__\":\n",
    "    root = tk.Tk()\n",
    "    chatbot_gui = ChatbotGUI(root)\n",
    "    root.mainloop()"
   ]
  }
 ],
 "metadata": {
  "kernelspec": {
   "display_name": "Python 3",
   "language": "python",
   "name": "python3"
  },
  "language_info": {
   "codemirror_mode": {
    "name": "ipython",
    "version": 3
   },
   "file_extension": ".py",
   "mimetype": "text/x-python",
   "name": "python",
   "nbconvert_exporter": "python",
   "pygments_lexer": "ipython3",
   "version": "3.11.5"
  }
 },
 "nbformat": 4,
 "nbformat_minor": 2
}
